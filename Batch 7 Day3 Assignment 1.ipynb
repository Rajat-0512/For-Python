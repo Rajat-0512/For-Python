{
  "nbformat": 4,
  "nbformat_minor": 0,
  "metadata": {
    "colab": {
      "name": "Copy of Untitled1.ipynb",
      "provenance": [],
      "collapsed_sections": []
    },
    "kernelspec": {
      "name": "python3",
      "display_name": "Python 3"
    }
  },
  "cells": [
    {
      "cell_type": "code",
      "metadata": {
        "id": "byQuhMn95PN3",
        "colab_type": "code",
        "colab": {
          "base_uri": "https://localhost:8080/",
          "height": 34
        },
        "outputId": "6d5544de-8221-45f9-e1ef-4a6ef73b3604"
      },
      "source": [
        "altitude = 4000\n",
        "\n",
        "if altitude == 1000:\n",
        "      print(\"Safe to land\")\n",
        "elif altitude>1000 and altitude<5000:\n",
        "      print(\"Bring down to 1000\")\n",
        "else:\n",
        "      print(\"Turn Around\")\n"
      ],
      "execution_count": null,
      "outputs": [
        {
          "output_type": "stream",
          "text": [
            "Bring down to 1000\n"
          ],
          "name": "stdout"
        }
      ]
    }
  ]
}