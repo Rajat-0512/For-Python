{
  "nbformat": 4,
  "nbformat_minor": 0,
  "metadata": {
    "colab": {
      "name": "Untitled3.ipynb",
      "provenance": [],
      "collapsed_sections": []
    },
    "kernelspec": {
      "name": "python3",
      "display_name": "Python 3"
    }
  },
  "cells": [
    {
      "cell_type": "code",
      "metadata": {
        "id": "FcLyh7z5XdvD",
        "colab_type": "code",
        "colab": {
          "base_uri": "https://localhost:8080/",
          "height": 119
        },
        "outputId": "05bb1b36-409c-46f8-bdf4-70b08ce4f827"
      },
      "source": [
        "lower = 1042000\n",
        "upper = 702648265\n",
        "for num in range(lower, upper + 1):\n",
        "   order = len(str(num))\n",
        "   sum = 0\n",
        "   temp = num\n",
        "   while temp > 0:\n",
        "       digit = temp % 10\n",
        "       sum += digit ** order\n",
        "       temp //= 10\n",
        "   if num == sum:\n",
        "       print(\"The first armtsong number is:\", num)\n",
        "break"
      ],
      "execution_count": null,
      "outputs": [
        {
          "output_type": "stream",
          "text": [
            "The first armtsong number is: 1741725\n",
            "The first armtsong number is: 4210818\n",
            "The first armtsong number is: 9800817\n",
            "The first armtsong number is: 9926315\n",
            "The first armtsong number is: 24678050\n",
            "The first armtsong number is: 24678051\n"
          ],
          "name": "stdout"
        }
      ]
    }
  ]
}